{
 "cells": [
  {
   "cell_type": "markdown",
   "id": "8e3cf6e9",
   "metadata": {},
   "source": [
    "# Pandas Read JSON\n"
   ]
  },
  {
   "cell_type": "code",
   "execution_count": null,
   "id": "d9b0c0c4",
   "metadata": {
    "vscode": {
     "languageId": "plaintext"
    }
   },
   "outputs": [],
   "source": []
  }
 ],
 "metadata": {
  "language_info": {
   "name": "python"
  }
 },
 "nbformat": 4,
 "nbformat_minor": 5
}
